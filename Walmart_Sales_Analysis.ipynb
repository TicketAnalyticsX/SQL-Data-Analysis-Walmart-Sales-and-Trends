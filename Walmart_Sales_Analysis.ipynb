{
 "cells": [
  {
   "cell_type": "markdown",
   "id": "45b3dc4e",
   "metadata": {},
   "source": [
    "# Walmart Sales Analysis Project\n",
    "This project analyzes Walmart sales data to uncover insights into customer behavior, product line performance, and sales trends."
   ]
  },
  {
   "cell_type": "markdown",
   "id": "951085ae",
   "metadata": {},
   "source": [
    "## Project Overview\n",
    "In this project, we use the Walmart sales dataset to answer key business questions, exploring sales patterns, customer behavior, and preferences. Our tools include **Pandas** for data manipulation and **Tableau** for visualization."
   ]
  },
  {
   "cell_type": "markdown",
   "id": "6339fc6f",
   "metadata": {},
   "source": [
    "## 1. Data Loading and Initial Inspection\n",
    "We start by loading the data into a Pandas DataFrame and inspecting the first few rows to understand its structure."
   ]
  },
  {
   "cell_type": "code",
   "execution_count": 5,
   "id": "200e372c",
   "metadata": {},
   "outputs": [
    {
     "data": {
      "text/html": [
       "<div>\n",
       "<style scoped>\n",
       "    .dataframe tbody tr th:only-of-type {\n",
       "        vertical-align: middle;\n",
       "    }\n",
       "\n",
       "    .dataframe tbody tr th {\n",
       "        vertical-align: top;\n",
       "    }\n",
       "\n",
       "    .dataframe thead th {\n",
       "        text-align: right;\n",
       "    }\n",
       "</style>\n",
       "<table border=\"1\" class=\"dataframe\">\n",
       "  <thead>\n",
       "    <tr style=\"text-align: right;\">\n",
       "      <th></th>\n",
       "      <th>Invoice ID</th>\n",
       "      <th>Branch</th>\n",
       "      <th>City</th>\n",
       "      <th>Customer type</th>\n",
       "      <th>Gender</th>\n",
       "      <th>Product line</th>\n",
       "      <th>Unit price</th>\n",
       "      <th>Quantity</th>\n",
       "      <th>Tax 5%</th>\n",
       "      <th>Total</th>\n",
       "      <th>Date</th>\n",
       "      <th>Time</th>\n",
       "      <th>Payment</th>\n",
       "      <th>cogs</th>\n",
       "      <th>gross margin percentage</th>\n",
       "      <th>gross income</th>\n",
       "      <th>Rating</th>\n",
       "    </tr>\n",
       "  </thead>\n",
       "  <tbody>\n",
       "    <tr>\n",
       "      <th>0</th>\n",
       "      <td>750-67-8428</td>\n",
       "      <td>A</td>\n",
       "      <td>Yangon</td>\n",
       "      <td>Member</td>\n",
       "      <td>Female</td>\n",
       "      <td>Health and beauty</td>\n",
       "      <td>74.69</td>\n",
       "      <td>7</td>\n",
       "      <td>26.1415</td>\n",
       "      <td>548.9715</td>\n",
       "      <td>2019-01-05</td>\n",
       "      <td>13:08:00</td>\n",
       "      <td>Ewallet</td>\n",
       "      <td>522.83</td>\n",
       "      <td>4.761905</td>\n",
       "      <td>26.1415</td>\n",
       "      <td>9.1</td>\n",
       "    </tr>\n",
       "    <tr>\n",
       "      <th>1</th>\n",
       "      <td>226-31-3081</td>\n",
       "      <td>C</td>\n",
       "      <td>Naypyitaw</td>\n",
       "      <td>Normal</td>\n",
       "      <td>Female</td>\n",
       "      <td>Electronic accessories</td>\n",
       "      <td>15.28</td>\n",
       "      <td>5</td>\n",
       "      <td>3.8200</td>\n",
       "      <td>80.2200</td>\n",
       "      <td>2019-03-08</td>\n",
       "      <td>10:29:00</td>\n",
       "      <td>Cash</td>\n",
       "      <td>76.40</td>\n",
       "      <td>4.761905</td>\n",
       "      <td>3.8200</td>\n",
       "      <td>9.6</td>\n",
       "    </tr>\n",
       "    <tr>\n",
       "      <th>2</th>\n",
       "      <td>631-41-3108</td>\n",
       "      <td>A</td>\n",
       "      <td>Yangon</td>\n",
       "      <td>Normal</td>\n",
       "      <td>Male</td>\n",
       "      <td>Home and lifestyle</td>\n",
       "      <td>46.33</td>\n",
       "      <td>7</td>\n",
       "      <td>16.2155</td>\n",
       "      <td>340.5255</td>\n",
       "      <td>2019-03-03</td>\n",
       "      <td>13:23:00</td>\n",
       "      <td>Credit card</td>\n",
       "      <td>324.31</td>\n",
       "      <td>4.761905</td>\n",
       "      <td>16.2155</td>\n",
       "      <td>7.4</td>\n",
       "    </tr>\n",
       "    <tr>\n",
       "      <th>3</th>\n",
       "      <td>123-19-1176</td>\n",
       "      <td>A</td>\n",
       "      <td>Yangon</td>\n",
       "      <td>Member</td>\n",
       "      <td>Male</td>\n",
       "      <td>Health and beauty</td>\n",
       "      <td>58.22</td>\n",
       "      <td>8</td>\n",
       "      <td>23.2880</td>\n",
       "      <td>489.0480</td>\n",
       "      <td>2019-01-27</td>\n",
       "      <td>20:33:00</td>\n",
       "      <td>Ewallet</td>\n",
       "      <td>465.76</td>\n",
       "      <td>4.761905</td>\n",
       "      <td>23.2880</td>\n",
       "      <td>8.4</td>\n",
       "    </tr>\n",
       "    <tr>\n",
       "      <th>4</th>\n",
       "      <td>373-73-7910</td>\n",
       "      <td>A</td>\n",
       "      <td>Yangon</td>\n",
       "      <td>Normal</td>\n",
       "      <td>Male</td>\n",
       "      <td>Sports and travel</td>\n",
       "      <td>86.31</td>\n",
       "      <td>7</td>\n",
       "      <td>30.2085</td>\n",
       "      <td>634.3785</td>\n",
       "      <td>2019-02-08</td>\n",
       "      <td>10:37:00</td>\n",
       "      <td>Ewallet</td>\n",
       "      <td>604.17</td>\n",
       "      <td>4.761905</td>\n",
       "      <td>30.2085</td>\n",
       "      <td>5.3</td>\n",
       "    </tr>\n",
       "  </tbody>\n",
       "</table>\n",
       "</div>"
      ],
      "text/plain": [
       "    Invoice ID Branch       City Customer type  Gender  \\\n",
       "0  750-67-8428      A     Yangon        Member  Female   \n",
       "1  226-31-3081      C  Naypyitaw        Normal  Female   \n",
       "2  631-41-3108      A     Yangon        Normal    Male   \n",
       "3  123-19-1176      A     Yangon        Member    Male   \n",
       "4  373-73-7910      A     Yangon        Normal    Male   \n",
       "\n",
       "             Product line  Unit price  Quantity   Tax 5%     Total  \\\n",
       "0       Health and beauty       74.69         7  26.1415  548.9715   \n",
       "1  Electronic accessories       15.28         5   3.8200   80.2200   \n",
       "2      Home and lifestyle       46.33         7  16.2155  340.5255   \n",
       "3       Health and beauty       58.22         8  23.2880  489.0480   \n",
       "4       Sports and travel       86.31         7  30.2085  634.3785   \n",
       "\n",
       "         Date      Time      Payment    cogs  gross margin percentage  \\\n",
       "0  2019-01-05  13:08:00      Ewallet  522.83                 4.761905   \n",
       "1  2019-03-08  10:29:00         Cash   76.40                 4.761905   \n",
       "2  2019-03-03  13:23:00  Credit card  324.31                 4.761905   \n",
       "3  2019-01-27  20:33:00      Ewallet  465.76                 4.761905   \n",
       "4  2019-02-08  10:37:00      Ewallet  604.17                 4.761905   \n",
       "\n",
       "   gross income  Rating  \n",
       "0       26.1415     9.1  \n",
       "1        3.8200     9.6  \n",
       "2       16.2155     7.4  \n",
       "3       23.2880     8.4  \n",
       "4       30.2085     5.3  "
      ]
     },
     "execution_count": 5,
     "metadata": {},
     "output_type": "execute_result"
    }
   ],
   "source": [
    "import pandas as pd\n",
    "\n",
    "# Load the dataset\n",
    "data = pd.read_csv('WalmartSalesData.csv')\n",
    "data.head()"
   ]
  },
  {
   "cell_type": "markdown",
   "id": "5eabd73d",
   "metadata": {},
   "source": [
    "## 2. Data Cleaning and Preparation\n",
    "Here, we check for missing values, confirm data types, and extract new features such as day of the week and hour for further analysis."
   ]
  },
  {
   "cell_type": "code",
   "execution_count": 7,
   "id": "9060503c",
   "metadata": {},
   "outputs": [
    {
     "data": {
      "text/plain": [
       "Invoice ID                 0\n",
       "Branch                     0\n",
       "City                       0\n",
       "Customer type              0\n",
       "Gender                     0\n",
       "Product line               0\n",
       "Unit price                 0\n",
       "Quantity                   0\n",
       "Tax 5%                     0\n",
       "Total                      0\n",
       "Date                       0\n",
       "Time                       0\n",
       "Payment                    0\n",
       "cogs                       0\n",
       "gross margin percentage    0\n",
       "gross income               0\n",
       "Rating                     0\n",
       "dtype: int64"
      ]
     },
     "execution_count": 7,
     "metadata": {},
     "output_type": "execute_result"
    }
   ],
   "source": [
    "# Check for missing values\n",
    "data.isnull().sum()"
   ]
  },
  {
   "cell_type": "code",
   "execution_count": 9,
   "id": "773426b0",
   "metadata": {},
   "outputs": [],
   "source": [
    "# Convert Date and Time columns to appropriate formats\n",
    "data['Date'] = pd.to_datetime(data['Date'])\n",
    "data['Time'] = pd.to_datetime(data['Time'], format='%H:%M:%S').dt.time"
   ]
  },
  {
   "cell_type": "markdown",
   "id": "52b5e70a",
   "metadata": {},
   "source": [
    "## 3. Exploratory Data Analysis (EDA)\n",
    "We explore the data to answer our business questions, starting with a summary of sales by product line and customer type."
   ]
  },
  {
   "cell_type": "code",
   "execution_count": 11,
   "id": "4e79665b",
   "metadata": {},
   "outputs": [
    {
     "data": {
      "text/plain": [
       "Product line\n",
       "Food and beverages        56144.8440\n",
       "Sports and travel         55122.8265\n",
       "Electronic accessories    54337.5315\n",
       "Fashion accessories       54305.8950\n",
       "Home and lifestyle        53861.9130\n",
       "Health and beauty         49193.7390\n",
       "Name: Total, dtype: float64"
      ]
     },
     "execution_count": 11,
     "metadata": {},
     "output_type": "execute_result"
    }
   ],
   "source": [
    "# Product Line Revenue Analysis\n",
    "product_revenue = data.groupby('Product line')['Total'].sum().sort_values(ascending=False)\n",
    "product_revenue"
   ]
  },
  {
   "cell_type": "code",
   "execution_count": 13,
   "id": "05215c3f",
   "metadata": {},
   "outputs": [
    {
     "data": {
      "text/plain": [
       "Customer type\n",
       "Member    327.791305\n",
       "Normal    318.122856\n",
       "Name: Total, dtype: float64"
      ]
     },
     "execution_count": 13,
     "metadata": {},
     "output_type": "execute_result"
    }
   ],
   "source": [
    "# Average Transaction Value by Customer Type\n",
    "avg_transaction_by_customer = data.groupby('Customer type')['Total'].mean()\n",
    "avg_transaction_by_customer"
   ]
  },
  {
   "cell_type": "markdown",
   "id": "562a1278",
   "metadata": {},
   "source": [
    "### Sales Trends Analysis\n",
    "We examine peak sales days and hours, as well as monthly trends to identify any seasonal patterns."
   ]
  },
  {
   "cell_type": "code",
   "execution_count": 19,
   "id": "747a0674",
   "metadata": {},
   "outputs": [],
   "source": [
    "# Extract day of the week and hour\n",
    "data['DayOfWeek'] = data['Date'].dt.day_name()\n",
    "data['Hour'] = pd.to_datetime(data['Time'], format='%H:%M:%S').dt.hour"
   ]
  },
  {
   "cell_type": "code",
   "execution_count": 21,
   "id": "6a8406c5",
   "metadata": {},
   "outputs": [
    {
     "data": {
      "text/plain": [
       "DayOfWeek\n",
       "Saturday     56120.8095\n",
       "Tuesday      51482.2455\n",
       "Thursday     45349.2480\n",
       "Sunday       44457.8925\n",
       "Friday       43926.3405\n",
       "Wednesday    43731.1350\n",
       "Monday       37899.0780\n",
       "Name: Total, dtype: float64"
      ]
     },
     "execution_count": 21,
     "metadata": {},
     "output_type": "execute_result"
    }
   ],
   "source": [
    "# Sales by Day of the Week\n",
    "sales_by_day = data.groupby('DayOfWeek')['Total'].sum().sort_values(ascending=False)\n",
    "sales_by_day"
   ]
  },
  {
   "cell_type": "code",
   "execution_count": 23,
   "id": "d3c99ba7",
   "metadata": {},
   "outputs": [
    {
     "data": {
      "text/plain": [
       "Hour\n",
       "19    39699.5130\n",
       "13    34723.2270\n",
       "10    31421.4810\n",
       "15    31179.5085\n",
       "14    30828.3990\n",
       "11    30377.3295\n",
       "12    26065.8825\n",
       "18    26030.3400\n",
       "16    25226.3235\n",
       "17    24445.2180\n",
       "20    22969.5270\n",
       "Name: Total, dtype: float64"
      ]
     },
     "execution_count": 23,
     "metadata": {},
     "output_type": "execute_result"
    }
   ],
   "source": [
    "# Sales by Hour of the Day\n",
    "sales_by_hour = data.groupby('Hour')['Total'].sum().sort_values(ascending=False)\n",
    "sales_by_hour"
   ]
  },
  {
   "cell_type": "markdown",
   "id": "34702e04",
   "metadata": {},
   "source": [
    "## 4. Visualization Preparation for Tableau\n",
    "To visualize insights in Tableau, we export key summaries such as product revenue and sales trends."
   ]
  },
  {
   "cell_type": "code",
   "execution_count": 26,
   "id": "3f134ef8",
   "metadata": {},
   "outputs": [],
   "source": [
    "# Export product revenue and sales by day and hour for Tableau\n",
    "product_revenue.to_csv('ProductRevenue.csv', index=True)\n",
    "sales_by_day.to_csv('SalesByDay.csv', index=True)\n",
    "sales_by_hour.to_csv('SalesByHour.csv', index=True)"
   ]
  },
  {
   "cell_type": "markdown",
   "id": "bdc41965",
   "metadata": {},
   "source": [
    "## 5. Conclusion\n",
    "This notebook provided an analysis of Walmart sales data, answering key business questions regarding product performance, customer spending patterns, and peak sales times. Further visualization in Tableau will enhance these insights."
   ]
  }
 ],
 "metadata": {
  "kernelspec": {
   "display_name": "Python 3 (ipykernel)",
   "language": "python",
   "name": "python3"
  },
  "language_info": {
   "codemirror_mode": {
    "name": "ipython",
    "version": 3
   },
   "file_extension": ".py",
   "mimetype": "text/x-python",
   "name": "python",
   "nbconvert_exporter": "python",
   "pygments_lexer": "ipython3",
   "version": "3.12.4"
  }
 },
 "nbformat": 4,
 "nbformat_minor": 5
}
